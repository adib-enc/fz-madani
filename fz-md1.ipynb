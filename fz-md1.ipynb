{
 "cells": [
  {
   "cell_type": "code",
   "execution_count": 1,
   "id": "880d2da3",
   "metadata": {},
   "outputs": [],
   "source": [
    "from fuzzy_system.fuzzy_variable_output import FuzzyOutputVariable\n",
    "from fuzzy_system.fuzzy_variable_input import FuzzyInputVariable\n",
    "# from fuzzy_system.fuzzy_variable import FuzzyVariable\n",
    "from fuzzy_system.fuzzy_system import FuzzySystem"
   ]
  },
  {
   "cell_type": "code",
   "execution_count": 21,
   "id": "200fbe12",
   "metadata": {},
   "outputs": [
    {
     "name": "stderr",
     "output_type": "stream",
     "text": [
      "/media/data1/_S2/fz-madani/fuzzy_system/fuzzy_set.py:72: RuntimeWarning: invalid value encountered in true_divide\n",
      "  np.maximum((c-t1fs._domain)/(c-b), 0), t1fs._precision\n"
     ]
    }
   ],
   "source": [
    "def create1(t=\"\"):\n",
    "    inp1 = FuzzyInputVariable('Neurotocism', 40, 40, 100)\n",
    "    inp1.addTriangular('SB1', 45, 51, 47\n",
    "        ).addTriangular('SB2', 45, 47, 49\n",
    "        ).addTriangular('SB3', 47, 49, 51\n",
    "        ).addTriangular('SB4', 49, 51, 51)\n",
    "\n",
    "    inp2 = FuzzyInputVariable('Extroversion', 40, 40, 100)\n",
    "    inp2.addTriangular('SD1', 40, 50, 43.25\n",
    "        ).addTriangular('SD2', 40, 43.25, 46.75\n",
    "        ).addTriangular('SD3', 43.25, 46.75, 50\n",
    "        ).addTriangular('SD4', 46.75, 50, 50)\n",
    "\n",
    "    out1 = FuzzyOutputVariable('Anxiety', 0, 60, 100)\n",
    "    out1.addTriangular('L', 0, 0, 20\n",
    "        ).addTriangular('M', 0, 20, 40\n",
    "        ).addTriangular('H', 20, 40, 60\n",
    "        ).addTriangular('E', 40, 60, 60)\n",
    "\n",
    "    system = FuzzySystem()\n",
    "    system.add_input_variable(inp1)\n",
    "    system.add_input_variable(inp2)\n",
    "    system.add_output_variable(out1)\n",
    "    \n",
    "    return system\n",
    "\n",
    "def create2(t=\"\"):\n",
    "    inp1 = FuzzyInputVariable('Score', 40, 40, 100)\n",
    "    inp1.addTriangular('SB1', 45, 51, 47\n",
    "        ).addTriangular('SB2', 45, 47, 49\n",
    "        ).addTriangular('SB3', 47, 49, 51\n",
    "        ).addTriangular('SB4', 49, 51, 51)\n",
    "    \n",
    "    out1 = FuzzyOutputVariable('Neurotocism', 40, 40, 100)\n",
    "    out1.addTriangular('SB1', 45, 51, 47\n",
    "        ).addTriangular('SB2', 45, 47, 49\n",
    "        ).addTriangular('SB3', 47, 49, 51\n",
    "        ).addTriangular('SB4', 49, 51, 51)\n",
    "    \n",
    "    system = FuzzySystem()\n",
    "    system.add_input_variable(inp1)\n",
    "    system.add_output_variable(out1)\n",
    "    \n",
    "    return system\n",
    "\n",
    "system = create1()\n",
    "system2 = create2()"
   ]
  },
  {
   "cell_type": "code",
   "execution_count": 30,
   "id": "6086736e",
   "metadata": {},
   "outputs": [
    {
     "name": "stdout",
     "output_type": "stream",
     "text": [
      "{'Anxiety': nan}\n"
     ]
    },
    {
     "ename": "UFuncTypeError",
     "evalue": "ufunc 'subtract' did not contain a loop with signature matching types (dtype('<U32'), dtype('<U32')) -> dtype('<U32')",
     "output_type": "error",
     "traceback": [
      "\u001b[0;31m---------------------------------------------------------------------------\u001b[0m",
      "\u001b[0;31mUFuncTypeError\u001b[0m                            Traceback (most recent call last)",
      "\u001b[0;32m/tmp/ipykernel_117594/1543026031.py\u001b[0m in \u001b[0;36m<module>\u001b[0;34m\u001b[0m\n\u001b[1;32m     51\u001b[0m \u001b[0;34m\u001b[0m\u001b[0m\n\u001b[1;32m     52\u001b[0m \u001b[0;34m\u001b[0m\u001b[0m\n\u001b[0;32m---> 53\u001b[0;31m \u001b[0mprint\u001b[0m\u001b[0;34m(\u001b[0m\u001b[0;34m'fuzzification\\n-------------\\n'\u001b[0m\u001b[0;34m,\u001b[0m \u001b[0minfo\u001b[0m\u001b[0;34m[\u001b[0m\u001b[0;34m'fuzzification'\u001b[0m\u001b[0;34m]\u001b[0m\u001b[0;34m)\u001b[0m\u001b[0;34m\u001b[0m\u001b[0;34m\u001b[0m\u001b[0m\n\u001b[0m\u001b[1;32m     54\u001b[0m \u001b[0mprint\u001b[0m\u001b[0;34m(\u001b[0m\u001b[0;34m'rules\\n-----\\n'\u001b[0m\u001b[0;34m,\u001b[0m \u001b[0minfo\u001b[0m\u001b[0;34m[\u001b[0m\u001b[0;34m'rules'\u001b[0m\u001b[0;34m]\u001b[0m\u001b[0;34m)\u001b[0m\u001b[0;34m\u001b[0m\u001b[0;34m\u001b[0m\u001b[0m\n\u001b[1;32m     55\u001b[0m \u001b[0;34m\u001b[0m\u001b[0m\n",
      "\u001b[0;32m/media/data1/_S2/fz-madani/fuzzy_system/fuzzy_set.py\u001b[0m in \u001b[0;36m__getitem__\u001b[0;34m(self, x_val)\u001b[0m\n\u001b[1;32m     20\u001b[0m \u001b[0;34m\u001b[0m\u001b[0m\n\u001b[1;32m     21\u001b[0m         \u001b[0;32mdef\u001b[0m \u001b[0m__getitem__\u001b[0m\u001b[0;34m(\u001b[0m\u001b[0mself\u001b[0m\u001b[0;34m,\u001b[0m \u001b[0mx_val\u001b[0m\u001b[0;34m)\u001b[0m\u001b[0;34m:\u001b[0m\u001b[0;34m\u001b[0m\u001b[0;34m\u001b[0m\u001b[0m\n\u001b[0;32m---> 22\u001b[0;31m                 \u001b[0;32mreturn\u001b[0m \u001b[0mself\u001b[0m\u001b[0;34m.\u001b[0m\u001b[0m_dom\u001b[0m\u001b[0;34m[\u001b[0m\u001b[0mnp\u001b[0m\u001b[0;34m.\u001b[0m\u001b[0mabs\u001b[0m\u001b[0;34m(\u001b[0m\u001b[0mself\u001b[0m\u001b[0;34m.\u001b[0m\u001b[0m_domain\u001b[0m\u001b[0;34m-\u001b[0m\u001b[0mx_val\u001b[0m\u001b[0;34m)\u001b[0m\u001b[0;34m.\u001b[0m\u001b[0margmin\u001b[0m\u001b[0;34m(\u001b[0m\u001b[0;34m)\u001b[0m\u001b[0;34m]\u001b[0m\u001b[0;34m\u001b[0m\u001b[0;34m\u001b[0m\u001b[0m\n\u001b[0m\u001b[1;32m     23\u001b[0m \u001b[0;34m\u001b[0m\u001b[0m\n\u001b[1;32m     24\u001b[0m         \u001b[0;32mdef\u001b[0m \u001b[0m__setitem__\u001b[0m\u001b[0;34m(\u001b[0m\u001b[0mself\u001b[0m\u001b[0;34m,\u001b[0m \u001b[0mx_val\u001b[0m\u001b[0;34m,\u001b[0m \u001b[0mdom\u001b[0m\u001b[0;34m)\u001b[0m\u001b[0;34m:\u001b[0m\u001b[0;34m\u001b[0m\u001b[0;34m\u001b[0m\u001b[0m\n",
      "\u001b[0;31mUFuncTypeError\u001b[0m: ufunc 'subtract' did not contain a loop with signature matching types (dtype('<U32'), dtype('<U32')) -> dtype('<U32')"
     ]
    }
   ],
   "source": [
    "system.add_rule({'Neurotocism':'SB1','Extroversion':'SD3'},{'Anxiety':'M'})\n",
    "system.add_rule({'Neurotocism':'SB1','Extroversion':'SD3'},{'Anxiety':'H'})\n",
    "system.add_rule({'Neurotocism':'SB1','Extroversion':'SD4'},{'Anxiety':'M'})\n",
    "system.add_rule({'Neurotocism':'SB1','Extroversion':'SD4'},{'Anxiety':'H'})\n",
    "system.add_rule({'Neurotocism':'SB2','Extroversion':'SD1'},{'Anxiety':'L'})\n",
    "system.add_rule({'Neurotocism':'SB2','Extroversion':'SD1'},{'Anxiety':'M'})\n",
    "system.add_rule({'Neurotocism':'SB2','Extroversion':'SD2'},{'Anxiety':'L'})\n",
    "system.add_rule({'Neurotocism':'SB2','Extroversion':'SD2'},{'Anxiety':'M'})\n",
    "system.add_rule({'Neurotocism':'SB2','Extroversion':'SD2'},{'Anxiety':'H'})\n",
    "system.add_rule({'Neurotocism':'SB2','Extroversion':'SD3'},{'Anxiety':'L'})\n",
    "system.add_rule({'Neurotocism':'SB2','Extroversion':'SD3'},{'Anxiety':'M'})\n",
    "system.add_rule({'Neurotocism':'SB2','Extroversion':'SD3'},{'Anxiety':'H'})\n",
    "system.add_rule({'Neurotocism':'SB2','Extroversion':'SD4'},{'Anxiety':'L'})\n",
    "system.add_rule({'Neurotocism':'SB2','Extroversion':'SD4'},{'Anxiety':'M'})\n",
    "system.add_rule({'Neurotocism':'SB2','Extroversion':'SD4'},{'Anxiety':'H'})\n",
    "system.add_rule({'Neurotocism':'SB3','Extroversion':'SD1'},{'Anxiety':'L'})\n",
    "system.add_rule({'Neurotocism':'SB3','Extroversion':'SD1'},{'Anxiety':'M'})\n",
    "system.add_rule({'Neurotocism':'SB3','Extroversion':'SD2'},{'Anxiety':'L'})\n",
    "system.add_rule({'Neurotocism':'SB3','Extroversion':'SD2'},{'Anxiety':'H'})\n",
    "system.add_rule({'Neurotocism':'SB3','Extroversion':'SD3'},{'Anxiety':'L'})\n",
    "system.add_rule({'Neurotocism':'SB3','Extroversion':'SD3'},{'Anxiety':'M'})\n",
    "system.add_rule({'Neurotocism':'SB3','Extroversion':'SD3'},{'Anxiety':'H'})\n",
    "system.add_rule({'Neurotocism':'SB3','Extroversion':'SD3'},{'Anxiety':'E'})\n",
    "system.add_rule({'Neurotocism':'SB3','Extroversion':'SD4'},{'Anxiety':'L'})\n",
    "system.add_rule({'Neurotocism':'SB3','Extroversion':'SD4'},{'Anxiety':'M'})\n",
    "system.add_rule({'Neurotocism':'SB3','Extroversion':'SD4'},{'Anxiety':'H'})\n",
    "system.add_rule({'Neurotocism':'SB3','Extroversion':'SD4'},{'Anxiety':'E'})\n",
    "system.add_rule({'Neurotocism':'SB4','Extroversion':'SD2'},{'Anxiety':'M'})\n",
    "system.add_rule({'Neurotocism':'SB4','Extroversion':'SD2'},{'Anxiety':'H'})\n",
    "system.add_rule({'Neurotocism':'SB4','Extroversion':'SD3'},{'Anxiety':'L'})\n",
    "system.add_rule({'Neurotocism':'SB4','Extroversion':'SD3'},{'Anxiety':'M'})\n",
    "system.add_rule({'Neurotocism':'SB4','Extroversion':'SD3'},{'Anxiety':'H'})\n",
    "system.add_rule({'Neurotocism':'SB4','Extroversion':'SD3'},{'Anxiety':'E'})\n",
    "system.add_rule({'Neurotocism':'SB4','Extroversion':'SD4'},{'Anxiety':'L'})\n",
    "system.add_rule({'Neurotocism':'SB4','Extroversion':'SD4'},{'Anxiety':'M'})\n",
    "system.add_rule({'Neurotocism':'SB4','Extroversion':'SD4'},{'Anxiety':'H'})\n",
    "system.add_rule({'Neurotocism':'SB4','Extroversion':'SD4'},{'Anxiety':'E'})\n",
    "\n",
    "\n",
    "# output = system.evaluate_output({\n",
    "# \t'Neurotocism':46.36,\n",
    "# \t'Extroversion':46.36\n",
    "# })\n",
    "\n",
    "output, info = system.evaluate_output_info({\n",
    "\t'Neurotocism':46.36,\n",
    "\t'Extroversion':46.36\n",
    "})\n",
    "\n",
    "print(output)\n",
    "\n",
    "\n",
    "print('fuzzification\\n-------------\\n', info['fuzzification'])\n",
    "print('rules\\n-----\\n', info['rules'])\n",
    "\n",
    "system.plot_system()"
   ]
  },
  {
   "cell_type": "code",
   "execution_count": 19,
   "id": "95042e1d",
   "metadata": {},
   "outputs": [
    {
     "name": "stderr",
     "output_type": "stream",
     "text": [
      "/media/data1/_S2/fz-madani/fuzzy_system/fuzzy_set.py:126: RuntimeWarning: invalid value encountered in double_scalars\n",
      "  return num/den\n"
     ]
    },
    {
     "name": "stdout",
     "output_type": "stream",
     "text": [
      "{'Neurotocism': nan}\n"
     ]
    },
    {
     "data": {
      "image/png": "[encoded data removed]",
      "text/plain": [
       "<Figure size 432x288 with 2 Axes>"
      ]
     },
     "metadata": {
      "needs_background": "light"
     },
     "output_type": "display_data"
    }
   ],
   "source": [
    "system.add_rule({'Score':'SB1'},{'Neurotocism':'SB1'})\n",
    "\n",
    "output = system2.evaluate_output({\n",
    "\t'Score':100\n",
    "})\n",
    "\n",
    "print(output)\n",
    "# print('fuzzification\\n-------------\\n', info['fuzzification'])\n",
    "# print('rules\\n-----\\n', info['rules'])\n",
    "\n",
    "system2.plot_system()"
   ]
  }
 ],
 "metadata": {
  "kernelspec": {
   "display_name": "Python 3 (ipykernel)",
   "language": "python",
   "name": "python3"
  },
  "language_info": {
   "codemirror_mode": {
    "name": "ipython",
    "version": 3
   },
   "file_extension": ".py",
   "mimetype": "text/x-python",
   "name": "python",
   "nbconvert_exporter": "python",
   "pygments_lexer": "ipython3",
   "version": "3.9.7"
  }
 },
 "nbformat": 4,
 "nbformat_minor": 5
}
